{
 "cells": [
  {
   "cell_type": "code",
   "execution_count": 1,
   "metadata": {},
   "outputs": [],
   "source": [
    "import pandas as pd\n",
    "import numpy as np\n",
    "import seaborn as sns\n",
    "import matplotlib.pyplot as plt"
   ]
  },
  {
   "cell_type": "code",
   "execution_count": 4,
   "metadata": {},
   "outputs": [],
   "source": [
    "data=pd.read_csv('data_filtered.csv',index_col=0)"
   ]
  },
  {
   "cell_type": "code",
   "execution_count": 13,
   "metadata": {},
   "outputs": [
    {
     "data": {
      "text/plain": [
       "'Crime, Drama, Mystery, Thriller'"
      ]
     },
     "execution_count": 13,
     "metadata": {},
     "output_type": "execute_result"
    }
   ],
   "source": [
    "data.genre.iloc[90]"
   ]
  },
  {
   "cell_type": "code",
   "execution_count": 53,
   "metadata": {},
   "outputs": [],
   "source": [
    "data.genre=data.genre.apply(lambda u: u.split(', ') if type(u)==str else u)"
   ]
  },
  {
   "cell_type": "code",
   "execution_count": 54,
   "metadata": {},
   "outputs": [
    {
     "data": {
      "text/html": [
       "<div>\n",
       "<style scoped>\n",
       "    .dataframe tbody tr th:only-of-type {\n",
       "        vertical-align: middle;\n",
       "    }\n",
       "\n",
       "    .dataframe tbody tr th {\n",
       "        vertical-align: top;\n",
       "    }\n",
       "\n",
       "    .dataframe thead th {\n",
       "        text-align: right;\n",
       "    }\n",
       "</style>\n",
       "<table border=\"1\" class=\"dataframe\">\n",
       "  <thead>\n",
       "    <tr style=\"text-align: right;\">\n",
       "      <th></th>\n",
       "      <th>genre</th>\n",
       "      <th>imdb_id</th>\n",
       "      <th>imdb_rating</th>\n",
       "      <th>imdb_votes</th>\n",
       "      <th>rated</th>\n",
       "      <th>released</th>\n",
       "      <th>runtime</th>\n",
       "      <th>title</th>\n",
       "      <th>year</th>\n",
       "      <th>ebay</th>\n",
       "      <th>etsy</th>\n",
       "      <th>bonanza</th>\n",
       "      <th>etsy2</th>\n",
       "    </tr>\n",
       "  </thead>\n",
       "  <tbody>\n",
       "    <tr>\n",
       "      <th>0</th>\n",
       "      <td>[Drama]</td>\n",
       "      <td>tt1719758</td>\n",
       "      <td>3.9</td>\n",
       "      <td>123.0</td>\n",
       "      <td>NaN</td>\n",
       "      <td>11 May 2015</td>\n",
       "      <td>NaN</td>\n",
       "      <td>America's Court with Judge Ross</td>\n",
       "      <td>2010–</td>\n",
       "      <td>0</td>\n",
       "      <td>0</td>\n",
       "      <td>0</td>\n",
       "      <td>0.0</td>\n",
       "    </tr>\n",
       "    <tr>\n",
       "      <th>1</th>\n",
       "      <td>[Documentary, Reality-TV]</td>\n",
       "      <td>tt1596786</td>\n",
       "      <td>7.0</td>\n",
       "      <td>6254.0</td>\n",
       "      <td>TV-PG</td>\n",
       "      <td>18 Jan 2010</td>\n",
       "      <td>60 min</td>\n",
       "      <td>American Pickers</td>\n",
       "      <td>2010–</td>\n",
       "      <td>5</td>\n",
       "      <td>2</td>\n",
       "      <td>0</td>\n",
       "      <td>2.0</td>\n",
       "    </tr>\n",
       "    <tr>\n",
       "      <th>2</th>\n",
       "      <td>[Documentary]</td>\n",
       "      <td>tt3021452</td>\n",
       "      <td>7.3</td>\n",
       "      <td>18.0</td>\n",
       "      <td>NaN</td>\n",
       "      <td>01 Dec 2010</td>\n",
       "      <td>NaN</td>\n",
       "      <td>Ancient Aliens: The Mission</td>\n",
       "      <td>2010–</td>\n",
       "      <td>0</td>\n",
       "      <td>405</td>\n",
       "      <td>0</td>\n",
       "      <td>NaN</td>\n",
       "    </tr>\n",
       "    <tr>\n",
       "      <th>3</th>\n",
       "      <td>[Crime, Drama, Mystery, Thriller]</td>\n",
       "      <td>tt1595859</td>\n",
       "      <td>7.5</td>\n",
       "      <td>29313.0</td>\n",
       "      <td>TV-14</td>\n",
       "      <td>24 Sep 2010</td>\n",
       "      <td>43 min</td>\n",
       "      <td>Blue Bloods</td>\n",
       "      <td>2010–</td>\n",
       "      <td>98</td>\n",
       "      <td>19</td>\n",
       "      <td>10</td>\n",
       "      <td>19.0</td>\n",
       "    </tr>\n",
       "    <tr>\n",
       "      <th>4</th>\n",
       "      <td>[Comedy, Music, Talk-Show]</td>\n",
       "      <td>tt1637574</td>\n",
       "      <td>8.1</td>\n",
       "      <td>20564.0</td>\n",
       "      <td>TV-14</td>\n",
       "      <td>08 Nov 2010</td>\n",
       "      <td>42 min</td>\n",
       "      <td>Conan</td>\n",
       "      <td>2010–</td>\n",
       "      <td>252</td>\n",
       "      <td>30</td>\n",
       "      <td>0</td>\n",
       "      <td>30.0</td>\n",
       "    </tr>\n",
       "  </tbody>\n",
       "</table>\n",
       "</div>"
      ],
      "text/plain": [
       "                               genre    imdb_id  imdb_rating  imdb_votes  \\\n",
       "0                            [Drama]  tt1719758          3.9       123.0   \n",
       "1          [Documentary, Reality-TV]  tt1596786          7.0      6254.0   \n",
       "2                      [Documentary]  tt3021452          7.3        18.0   \n",
       "3  [Crime, Drama, Mystery, Thriller]  tt1595859          7.5     29313.0   \n",
       "4         [Comedy, Music, Talk-Show]  tt1637574          8.1     20564.0   \n",
       "\n",
       "   rated     released runtime                            title   year  ebay  \\\n",
       "0    NaN  11 May 2015     NaN  America's Court with Judge Ross  2010–     0   \n",
       "1  TV-PG  18 Jan 2010  60 min                 American Pickers  2010–     5   \n",
       "2    NaN  01 Dec 2010     NaN      Ancient Aliens: The Mission  2010–     0   \n",
       "3  TV-14  24 Sep 2010  43 min                      Blue Bloods  2010–    98   \n",
       "4  TV-14  08 Nov 2010  42 min                            Conan  2010–   252   \n",
       "\n",
       "   etsy  bonanza  etsy2  \n",
       "0     0        0    0.0  \n",
       "1     2        0    2.0  \n",
       "2   405        0    NaN  \n",
       "3    19       10   19.0  \n",
       "4    30        0   30.0  "
      ]
     },
     "execution_count": 54,
     "metadata": {},
     "output_type": "execute_result"
    }
   ],
   "source": [
    "data.head()"
   ]
  },
  {
   "cell_type": "code",
   "execution_count": 23,
   "metadata": {},
   "outputs": [
    {
     "data": {
      "text/plain": [
       "662"
      ]
     },
     "execution_count": 23,
     "metadata": {},
     "output_type": "execute_result"
    }
   ],
   "source": [
    "data.genre.count()"
   ]
  },
  {
   "cell_type": "code",
   "execution_count": 25,
   "metadata": {},
   "outputs": [
    {
     "data": {
      "text/plain": [
       "680"
      ]
     },
     "execution_count": 25,
     "metadata": {},
     "output_type": "execute_result"
    }
   ],
   "source": [
    "data.genre.isna().count()"
   ]
  },
  {
   "cell_type": "code",
   "execution_count": 33,
   "metadata": {},
   "outputs": [
    {
     "data": {
      "text/plain": [
       "['Documentary', 'Reality-TV']"
      ]
     },
     "execution_count": 33,
     "metadata": {},
     "output_type": "execute_result"
    }
   ],
   "source": [
    "genres[1]"
   ]
  },
  {
   "cell_type": "code",
   "execution_count": 44,
   "metadata": {},
   "outputs": [],
   "source": [
    "all_genres=[]\n",
    "for i in genres:\n",
    "    if type(i)==list:\n",
    "        all_genres+=i"
   ]
  },
  {
   "cell_type": "code",
   "execution_count": 48,
   "metadata": {},
   "outputs": [
    {
     "data": {
      "text/plain": [
       "1566"
      ]
     },
     "execution_count": 48,
     "metadata": {},
     "output_type": "execute_result"
    }
   ],
   "source": [
    "len(all_genres)"
   ]
  },
  {
   "cell_type": "code",
   "execution_count": 49,
   "metadata": {},
   "outputs": [],
   "source": [
    "just_genres=set(all_genres)"
   ]
  },
  {
   "cell_type": "code",
   "execution_count": 51,
   "metadata": {},
   "outputs": [
    {
     "data": {
      "text/plain": [
       "26"
      ]
     },
     "execution_count": 51,
     "metadata": {},
     "output_type": "execute_result"
    }
   ],
   "source": [
    "just_genres"
   ]
  },
  {
   "cell_type": "code",
   "execution_count": 52,
   "metadata": {},
   "outputs": [
    {
     "name": "stdout",
     "output_type": "stream",
     "text": [
      "Drama\n",
      "Biography\n",
      "Game-Show\n",
      "Action\n",
      "Crime\n",
      "Mystery\n",
      "Sci-Fi\n",
      "Western\n",
      "History\n",
      "Reality-TV\n",
      "News\n",
      "Horror\n",
      "Comedy\n",
      "Adventure\n",
      "Musical\n",
      "Music\n",
      "Documentary\n",
      "Family\n",
      "Short\n",
      "Thriller\n",
      "Romance\n",
      "Fantasy\n",
      "Sport\n",
      "Talk-Show\n",
      "Animation\n",
      "War\n"
     ]
    }
   ],
   "source": [
    "for i in just_genres:\n",
    "    print(i)"
   ]
  },
  {
   "cell_type": "code",
   "execution_count": null,
   "metadata": {},
   "outputs": [],
   "source": []
  }
 ],
 "metadata": {
  "kernelspec": {
   "display_name": "Python 3",
   "language": "python",
   "name": "python3"
  },
  "language_info": {
   "codemirror_mode": {
    "name": "ipython",
    "version": 3
   },
   "file_extension": ".py",
   "mimetype": "text/x-python",
   "name": "python",
   "nbconvert_exporter": "python",
   "pygments_lexer": "ipython3",
   "version": "3.7.3"
  }
 },
 "nbformat": 4,
 "nbformat_minor": 2
}
